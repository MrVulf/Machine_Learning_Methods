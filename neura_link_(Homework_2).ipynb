{
 "cells": [
  {
   "cell_type": "markdown",
   "id": "69a2ff34",
   "metadata": {},
   "source": [
    "#  Предсказание найма кандитата на должность\n",
    "\n",
    "## 1. Описание задания\n",
    "На основании данный из  дата-сета (https://www.kaggle.com/shivan118/hranalysis?select=train.csv (test.csv - предварительно скачен)) необходимо определить (предсказать) факт найма потенциального сотрудника.\n",
    "\n",
    "## 2. Описание предметной области\n",
    "\n",
    "В общем случае на множесте данны определы 12(13*) признаков. Проведём описание столбцов таблицы:\n",
    "1. employee_id = ID-записи в таблице;\n",
    "2. department = наименование департамента, куда рассматривалась кандидатура потенциального сотрудника;\n",
    "3. region = наименование (обезличенное) региона, откуда поступила кандидатура;\n",
    "4. education = уровень образования кандидиата (бакалавр, магистр, и т.д.);\n",
    "5. gender = пол (муж/жен) кандидата;\n",
    "6. recruitment_channel = канал подбора персонала;\n",
    "7. no_of_trainings = колличество пройденных тренингов;\n",
    "8. age = возраст кандидата\n",
    "9. previous_year_rating = прошлогодний рейтинг сотрудника (в компании);\n",
    "10. length of service = стаж работы;\n",
    "11. KPIs_met >80% = \"ключевой показатель эффективности\";\n",
    "12. awards_won? = победитель номинаций/конкурсов;\n",
    "13. avg_training_score = средняя оценка в рамках прохождений курсов;\n",
    "14. is_promoted * = был ли нанят сотрудник (* - используется в тренировочной выборке).\n"
   ]
  },
  {
   "cell_type": "code",
   "execution_count": 4,
   "id": "aa581024",
   "metadata": {},
   "outputs": [],
   "source": [
    "import numpy as np              # Массивы (матрицы, векторы, линейная алгебра)\n",
    "import matplotlib.pyplot as plt # Научная графика\n",
    "%matplotlib inline \n",
    "# Говорим jupyter'у, чтобы весь графический вывод был в браузере, а не в отдельном окне\n",
    "import pandas as pd             # Таблицы и временные ряды (dataframe, series)\n",
    "import seaborn as sns           # Еще больше красивой графики для визуализации данных\n",
    "import sklearn                  # Алгоритмы машинного обучения"
   ]
  },
  {
   "cell_type": "code",
   "execution_count": 5,
   "id": "2a0720b8",
   "metadata": {
    "scrolled": true
   },
   "outputs": [],
   "source": [
    "# Считываем данные с локального файла\n",
    "url = \"train.csv\"\n",
    "data_raw=pd.read_csv(url)"
   ]
  },
  {
   "cell_type": "code",
   "execution_count": 6,
   "id": "ac19e293",
   "metadata": {},
   "outputs": [
    {
     "data": {
      "text/plain": [
       "(54808, 14)"
      ]
     },
     "execution_count": 6,
     "metadata": {},
     "output_type": "execute_result"
    }
   ],
   "source": [
    "# Узнаем размер таблицы\n",
    "data_raw.shape"
   ]
  },
  {
   "cell_type": "code",
   "execution_count": 7,
   "id": "962c88d9",
   "metadata": {},
   "outputs": [
    {
     "data": {
      "text/html": [
       "<div>\n",
       "<style scoped>\n",
       "    .dataframe tbody tr th:only-of-type {\n",
       "        vertical-align: middle;\n",
       "    }\n",
       "\n",
       "    .dataframe tbody tr th {\n",
       "        vertical-align: top;\n",
       "    }\n",
       "\n",
       "    .dataframe thead th {\n",
       "        text-align: right;\n",
       "    }\n",
       "</style>\n",
       "<table border=\"1\" class=\"dataframe\">\n",
       "  <thead>\n",
       "    <tr style=\"text-align: right;\">\n",
       "      <th></th>\n",
       "      <th>employee_id</th>\n",
       "      <th>department</th>\n",
       "      <th>region</th>\n",
       "      <th>education</th>\n",
       "      <th>gender</th>\n",
       "      <th>recruitment_channel</th>\n",
       "      <th>no_of_trainings</th>\n",
       "      <th>age</th>\n",
       "      <th>previous_year_rating</th>\n",
       "      <th>length_of_service</th>\n",
       "      <th>KPIs_met &gt;80%</th>\n",
       "      <th>awards_won?</th>\n",
       "      <th>avg_training_score</th>\n",
       "      <th>is_promoted</th>\n",
       "    </tr>\n",
       "  </thead>\n",
       "  <tbody>\n",
       "    <tr>\n",
       "      <th>0</th>\n",
       "      <td>65438</td>\n",
       "      <td>Sales &amp; Marketing</td>\n",
       "      <td>region_7</td>\n",
       "      <td>Master's &amp; above</td>\n",
       "      <td>f</td>\n",
       "      <td>sourcing</td>\n",
       "      <td>1</td>\n",
       "      <td>35</td>\n",
       "      <td>5.0</td>\n",
       "      <td>8</td>\n",
       "      <td>1</td>\n",
       "      <td>0</td>\n",
       "      <td>49</td>\n",
       "      <td>0</td>\n",
       "    </tr>\n",
       "    <tr>\n",
       "      <th>1</th>\n",
       "      <td>65141</td>\n",
       "      <td>Operations</td>\n",
       "      <td>region_22</td>\n",
       "      <td>Bachelor's</td>\n",
       "      <td>m</td>\n",
       "      <td>other</td>\n",
       "      <td>1</td>\n",
       "      <td>30</td>\n",
       "      <td>5.0</td>\n",
       "      <td>4</td>\n",
       "      <td>0</td>\n",
       "      <td>0</td>\n",
       "      <td>60</td>\n",
       "      <td>0</td>\n",
       "    </tr>\n",
       "    <tr>\n",
       "      <th>2</th>\n",
       "      <td>7513</td>\n",
       "      <td>Sales &amp; Marketing</td>\n",
       "      <td>region_19</td>\n",
       "      <td>Bachelor's</td>\n",
       "      <td>m</td>\n",
       "      <td>sourcing</td>\n",
       "      <td>1</td>\n",
       "      <td>34</td>\n",
       "      <td>3.0</td>\n",
       "      <td>7</td>\n",
       "      <td>0</td>\n",
       "      <td>0</td>\n",
       "      <td>50</td>\n",
       "      <td>0</td>\n",
       "    </tr>\n",
       "    <tr>\n",
       "      <th>3</th>\n",
       "      <td>2542</td>\n",
       "      <td>Sales &amp; Marketing</td>\n",
       "      <td>region_23</td>\n",
       "      <td>Bachelor's</td>\n",
       "      <td>m</td>\n",
       "      <td>other</td>\n",
       "      <td>2</td>\n",
       "      <td>39</td>\n",
       "      <td>1.0</td>\n",
       "      <td>10</td>\n",
       "      <td>0</td>\n",
       "      <td>0</td>\n",
       "      <td>50</td>\n",
       "      <td>0</td>\n",
       "    </tr>\n",
       "    <tr>\n",
       "      <th>4</th>\n",
       "      <td>48945</td>\n",
       "      <td>Technology</td>\n",
       "      <td>region_26</td>\n",
       "      <td>Bachelor's</td>\n",
       "      <td>m</td>\n",
       "      <td>other</td>\n",
       "      <td>1</td>\n",
       "      <td>45</td>\n",
       "      <td>3.0</td>\n",
       "      <td>2</td>\n",
       "      <td>0</td>\n",
       "      <td>0</td>\n",
       "      <td>73</td>\n",
       "      <td>0</td>\n",
       "    </tr>\n",
       "  </tbody>\n",
       "</table>\n",
       "</div>"
      ],
      "text/plain": [
       "   employee_id         department     region         education gender  \\\n",
       "0        65438  Sales & Marketing   region_7  Master's & above      f   \n",
       "1        65141         Operations  region_22        Bachelor's      m   \n",
       "2         7513  Sales & Marketing  region_19        Bachelor's      m   \n",
       "3         2542  Sales & Marketing  region_23        Bachelor's      m   \n",
       "4        48945         Technology  region_26        Bachelor's      m   \n",
       "\n",
       "  recruitment_channel  no_of_trainings  age  previous_year_rating  \\\n",
       "0            sourcing                1   35                   5.0   \n",
       "1               other                1   30                   5.0   \n",
       "2            sourcing                1   34                   3.0   \n",
       "3               other                2   39                   1.0   \n",
       "4               other                1   45                   3.0   \n",
       "\n",
       "   length_of_service  KPIs_met >80%  awards_won?  avg_training_score  \\\n",
       "0                  8              1            0                  49   \n",
       "1                  4              0            0                  60   \n",
       "2                  7              0            0                  50   \n",
       "3                 10              0            0                  50   \n",
       "4                  2              0            0                  73   \n",
       "\n",
       "   is_promoted  \n",
       "0            0  \n",
       "1            0  \n",
       "2            0  \n",
       "3            0  \n",
       "4            0  "
      ]
     },
     "execution_count": 7,
     "metadata": {},
     "output_type": "execute_result"
    }
   ],
   "source": [
    "# Выведем первые 5 строк таблицы\n",
    "data_raw.head()"
   ]
  },
  {
   "cell_type": "markdown",
   "id": "06d50a73",
   "metadata": {},
   "source": [
    "### Типы признаков (столбцов)\n",
    "1. employee_id = числовой;\n",
    "2. department = категориальный;\n",
    "3. region = категориальный;\n",
    "4. education = категориальный;\n",
    "5. gender = бинарный;\n",
    "6. recruitment_channel = категориальный;\n",
    "7. no_of_trainings = числовой;\n",
    "8. age = числовой;\n",
    "9. previous_year_rating = числовой;\n",
    "10. length of service = числовой;\n",
    "11. KPIs_met >80% = бинарный;\n",
    "12. awards_won? = бинарный;\n",
    "13. avg_training_score = числовой;\n",
    "14. is_promoted * = бинарный."
   ]
  },
  {
   "cell_type": "markdown",
   "id": "0b28af37",
   "metadata": {},
   "source": [
    "# Подготовка данных"
   ]
  },
  {
   "cell_type": "markdown",
   "id": "b5ad1a50",
   "metadata": {},
   "source": [
    "### Убираем выбросы"
   ]
  },
  {
   "cell_type": "code",
   "execution_count": 14,
   "id": "a5ec92d1",
   "metadata": {},
   "outputs": [
    {
     "data": {
      "text/plain": [
       "(53695, 14)"
      ]
     },
     "execution_count": 14,
     "metadata": {},
     "output_type": "execute_result"
    }
   ],
   "source": [
    "rows_to_drop = data_raw[\n",
    "    (data_raw['length_of_service'] < data_raw['length_of_service'].quantile(0.005)) | (data_raw['length_of_service'] > data_raw['length_of_service'].quantile(0.995)) | \n",
    "    (data_raw['age']  < data_raw['age' ].quantile(0.005)) | (data_raw['age']  > data_raw['age' ].quantile(0.995)) | \n",
    "    (data_raw['avg_training_score']  < data_raw['avg_training_score' ].quantile(0.005)) | (data_raw['avg_training_score']  > data_raw['avg_training_score' ].quantile(0.995))].index\n",
    "data = data_raw.drop(rows_to_drop)\n",
    "data.shape"
   ]
  },
  {
   "cell_type": "markdown",
   "id": "1bd8cac1",
   "metadata": {},
   "source": [
    "### Заполнение пропущенных значений"
   ]
  },
  {
   "cell_type": "code",
   "execution_count": 15,
   "id": "d4c0d516",
   "metadata": {},
   "outputs": [
    {
     "data": {
      "text/plain": [
       "employee_id                0\n",
       "department                 0\n",
       "region                     0\n",
       "education               2315\n",
       "gender                     0\n",
       "recruitment_channel        0\n",
       "no_of_trainings            0\n",
       "age                        0\n",
       "previous_year_rating    3982\n",
       "length_of_service          0\n",
       "KPIs_met >80%              0\n",
       "awards_won?                0\n",
       "avg_training_score         0\n",
       "is_promoted                0\n",
       "dtype: int64"
      ]
     },
     "execution_count": 15,
     "metadata": {},
     "output_type": "execute_result"
    }
   ],
   "source": [
    "data.isna().sum()"
   ]
  },
  {
   "cell_type": "markdown",
   "id": "26ec4e39",
   "metadata": {},
   "source": [
    "Как видно из результата - в дата-сете отсутсвуют записи по двум признакам: education (категориальный) - 2315 записей и previous_year_rating (числовой) - 3982.\n",
    "\n",
    "Всего в тренировочоном дата сете представлено около 52 тысяч записей - 2315+3982= записи это ~12%.\n",
    "Есть два пути решения - или заполнить данные средним или медианной, или удалим эти строки. Второй вариант возможен, но идти этим путем не интересно :)\n",
    "\n",
    "Попробуем заполнить их медианной (для числового признака):"
   ]
  },
  {
   "cell_type": "code",
   "execution_count": 16,
   "id": "f22abc77",
   "metadata": {},
   "outputs": [
    {
     "data": {
      "text/plain": [
       "employee_id                0\n",
       "department                 0\n",
       "region                     0\n",
       "education               2315\n",
       "gender                     0\n",
       "recruitment_channel        0\n",
       "no_of_trainings            0\n",
       "age                        0\n",
       "previous_year_rating       0\n",
       "length_of_service          0\n",
       "KPIs_met >80%              0\n",
       "awards_won?                0\n",
       "avg_training_score         0\n",
       "is_promoted                0\n",
       "dtype: int64"
      ]
     },
     "execution_count": 16,
     "metadata": {},
     "output_type": "execute_result"
    }
   ],
   "source": [
    "data.fillna(data.median(axis = 0), axis=0 , inplace=True)\n",
    "data.isna().sum()"
   ]
  },
  {
   "cell_type": "markdown",
   "id": "459c4769",
   "metadata": {},
   "source": [
    "Столбец с категориальным признаком заполним модой:"
   ]
  },
  {
   "cell_type": "code",
   "execution_count": 17,
   "id": "939aeb6c",
   "metadata": {},
   "outputs": [
    {
     "data": {
      "text/plain": [
       "employee_id             0\n",
       "department              0\n",
       "region                  0\n",
       "education               0\n",
       "gender                  0\n",
       "recruitment_channel     0\n",
       "no_of_trainings         0\n",
       "age                     0\n",
       "previous_year_rating    0\n",
       "length_of_service       0\n",
       "KPIs_met >80%           0\n",
       "awards_won?             0\n",
       "avg_training_score      0\n",
       "is_promoted             0\n",
       "dtype: int64"
      ]
     },
     "execution_count": 17,
     "metadata": {},
     "output_type": "execute_result"
    }
   ],
   "source": [
    "data['education'].fillna(data['education'].mode().iloc[0], inplace=True)\n",
    "data.isna().sum()"
   ]
  },
  {
   "cell_type": "code",
   "execution_count": 18,
   "id": "25b739a7",
   "metadata": {
    "scrolled": true
   },
   "outputs": [
    {
     "data": {
      "text/html": [
       "<div>\n",
       "<style scoped>\n",
       "    .dataframe tbody tr th:only-of-type {\n",
       "        vertical-align: middle;\n",
       "    }\n",
       "\n",
       "    .dataframe tbody tr th {\n",
       "        vertical-align: top;\n",
       "    }\n",
       "\n",
       "    .dataframe thead th {\n",
       "        text-align: right;\n",
       "    }\n",
       "</style>\n",
       "<table border=\"1\" class=\"dataframe\">\n",
       "  <thead>\n",
       "    <tr style=\"text-align: right;\">\n",
       "      <th></th>\n",
       "      <th>employee_id</th>\n",
       "      <th>no_of_trainings</th>\n",
       "      <th>age</th>\n",
       "      <th>previous_year_rating</th>\n",
       "      <th>length_of_service</th>\n",
       "      <th>KPIs_met &gt;80%</th>\n",
       "      <th>awards_won?</th>\n",
       "      <th>avg_training_score</th>\n",
       "      <th>is_promoted</th>\n",
       "    </tr>\n",
       "  </thead>\n",
       "  <tbody>\n",
       "    <tr>\n",
       "      <th>count</th>\n",
       "      <td>53695.000000</td>\n",
       "      <td>53695.000000</td>\n",
       "      <td>53695.000000</td>\n",
       "      <td>53695.000000</td>\n",
       "      <td>53695.000000</td>\n",
       "      <td>53695.000000</td>\n",
       "      <td>53695.000000</td>\n",
       "      <td>53695.000000</td>\n",
       "      <td>53695.000000</td>\n",
       "    </tr>\n",
       "    <tr>\n",
       "      <th>mean</th>\n",
       "      <td>39185.435515</td>\n",
       "      <td>1.253841</td>\n",
       "      <td>34.678555</td>\n",
       "      <td>3.303287</td>\n",
       "      <td>5.767148</td>\n",
       "      <td>0.352174</td>\n",
       "      <td>0.022293</td>\n",
       "      <td>63.392066</td>\n",
       "      <td>0.082224</td>\n",
       "    </tr>\n",
       "    <tr>\n",
       "      <th>std</th>\n",
       "      <td>22595.327963</td>\n",
       "      <td>0.609429</td>\n",
       "      <td>7.367058</td>\n",
       "      <td>1.215134</td>\n",
       "      <td>3.994236</td>\n",
       "      <td>0.477652</td>\n",
       "      <td>0.147635</td>\n",
       "      <td>13.190104</td>\n",
       "      <td>0.274708</td>\n",
       "    </tr>\n",
       "    <tr>\n",
       "      <th>min</th>\n",
       "      <td>1.000000</td>\n",
       "      <td>1.000000</td>\n",
       "      <td>22.000000</td>\n",
       "      <td>1.000000</td>\n",
       "      <td>1.000000</td>\n",
       "      <td>0.000000</td>\n",
       "      <td>0.000000</td>\n",
       "      <td>44.000000</td>\n",
       "      <td>0.000000</td>\n",
       "    </tr>\n",
       "    <tr>\n",
       "      <th>25%</th>\n",
       "      <td>19657.000000</td>\n",
       "      <td>1.000000</td>\n",
       "      <td>29.000000</td>\n",
       "      <td>3.000000</td>\n",
       "      <td>3.000000</td>\n",
       "      <td>0.000000</td>\n",
       "      <td>0.000000</td>\n",
       "      <td>51.000000</td>\n",
       "      <td>0.000000</td>\n",
       "    </tr>\n",
       "    <tr>\n",
       "      <th>50%</th>\n",
       "      <td>39187.000000</td>\n",
       "      <td>1.000000</td>\n",
       "      <td>33.000000</td>\n",
       "      <td>3.000000</td>\n",
       "      <td>5.000000</td>\n",
       "      <td>0.000000</td>\n",
       "      <td>0.000000</td>\n",
       "      <td>60.000000</td>\n",
       "      <td>0.000000</td>\n",
       "    </tr>\n",
       "    <tr>\n",
       "      <th>75%</th>\n",
       "      <td>58740.000000</td>\n",
       "      <td>1.000000</td>\n",
       "      <td>39.000000</td>\n",
       "      <td>4.000000</td>\n",
       "      <td>7.000000</td>\n",
       "      <td>1.000000</td>\n",
       "      <td>0.000000</td>\n",
       "      <td>76.000000</td>\n",
       "      <td>0.000000</td>\n",
       "    </tr>\n",
       "    <tr>\n",
       "      <th>max</th>\n",
       "      <td>78298.000000</td>\n",
       "      <td>10.000000</td>\n",
       "      <td>59.000000</td>\n",
       "      <td>5.000000</td>\n",
       "      <td>24.000000</td>\n",
       "      <td>1.000000</td>\n",
       "      <td>1.000000</td>\n",
       "      <td>94.000000</td>\n",
       "      <td>1.000000</td>\n",
       "    </tr>\n",
       "  </tbody>\n",
       "</table>\n",
       "</div>"
      ],
      "text/plain": [
       "        employee_id  no_of_trainings           age  previous_year_rating  \\\n",
       "count  53695.000000     53695.000000  53695.000000          53695.000000   \n",
       "mean   39185.435515         1.253841     34.678555              3.303287   \n",
       "std    22595.327963         0.609429      7.367058              1.215134   \n",
       "min        1.000000         1.000000     22.000000              1.000000   \n",
       "25%    19657.000000         1.000000     29.000000              3.000000   \n",
       "50%    39187.000000         1.000000     33.000000              3.000000   \n",
       "75%    58740.000000         1.000000     39.000000              4.000000   \n",
       "max    78298.000000        10.000000     59.000000              5.000000   \n",
       "\n",
       "       length_of_service  KPIs_met >80%   awards_won?  avg_training_score  \\\n",
       "count       53695.000000   53695.000000  53695.000000        53695.000000   \n",
       "mean            5.767148       0.352174      0.022293           63.392066   \n",
       "std             3.994236       0.477652      0.147635           13.190104   \n",
       "min             1.000000       0.000000      0.000000           44.000000   \n",
       "25%             3.000000       0.000000      0.000000           51.000000   \n",
       "50%             5.000000       0.000000      0.000000           60.000000   \n",
       "75%             7.000000       1.000000      0.000000           76.000000   \n",
       "max            24.000000       1.000000      1.000000           94.000000   \n",
       "\n",
       "        is_promoted  \n",
       "count  53695.000000  \n",
       "mean       0.082224  \n",
       "std        0.274708  \n",
       "min        0.000000  \n",
       "25%        0.000000  \n",
       "50%        0.000000  \n",
       "75%        0.000000  \n",
       "max        1.000000  "
      ]
     },
     "execution_count": 18,
     "metadata": {},
     "output_type": "execute_result"
    }
   ],
   "source": [
    "data.describe()"
   ]
  },
  {
   "cell_type": "markdown",
   "id": "7e37a871",
   "metadata": {},
   "source": [
    "### Бинаризация номинальных признаков\n",
    "Признаки:\n",
    "KPIs_met >80% = бинарный;\n",
    "awards_won? = бинарный;\n",
    "is_promoted = бинарный;\n",
    "gender = бинарный"
   ]
  },
  {
   "cell_type": "code",
   "execution_count": 19,
   "id": "2c0223b2",
   "metadata": {},
   "outputs": [],
   "source": [
    "data['KPIs_met >80%'] = pd.factorize(data['KPIs_met >80%'])[0]\n",
    "data['awards_won?'] = pd.factorize(data['awards_won?'])[0]\n",
    "data['is_promoted'] = pd.factorize(data['is_promoted'])[0]\n",
    "data['gender'] = pd.factorize(data['gender'])[0]"
   ]
  },
  {
   "cell_type": "markdown",
   "id": "1d1f2e99",
   "metadata": {},
   "source": [
    "### Бинаризация категориальных признаков\n",
    "Признаки:\n",
    "department;\n",
    "region;\n",
    "education;\n",
    "gender;\n",
    "recruitment_channel.\n"
   ]
  },
  {
   "cell_type": "code",
   "execution_count": 20,
   "id": "e08090d5",
   "metadata": {},
   "outputs": [
    {
     "data": {
      "text/html": [
       "<div>\n",
       "<style scoped>\n",
       "    .dataframe tbody tr th:only-of-type {\n",
       "        vertical-align: middle;\n",
       "    }\n",
       "\n",
       "    .dataframe tbody tr th {\n",
       "        vertical-align: top;\n",
       "    }\n",
       "\n",
       "    .dataframe thead th {\n",
       "        text-align: right;\n",
       "    }\n",
       "</style>\n",
       "<table border=\"1\" class=\"dataframe\">\n",
       "  <thead>\n",
       "    <tr style=\"text-align: right;\">\n",
       "      <th></th>\n",
       "      <th>Analytics</th>\n",
       "      <th>Finance</th>\n",
       "      <th>HR</th>\n",
       "      <th>Legal</th>\n",
       "      <th>Operations</th>\n",
       "      <th>Procurement</th>\n",
       "      <th>R&amp;D</th>\n",
       "      <th>Sales &amp; Marketing</th>\n",
       "      <th>Technology</th>\n",
       "    </tr>\n",
       "  </thead>\n",
       "  <tbody>\n",
       "    <tr>\n",
       "      <th>0</th>\n",
       "      <td>0</td>\n",
       "      <td>0</td>\n",
       "      <td>0</td>\n",
       "      <td>0</td>\n",
       "      <td>0</td>\n",
       "      <td>0</td>\n",
       "      <td>0</td>\n",
       "      <td>1</td>\n",
       "      <td>0</td>\n",
       "    </tr>\n",
       "    <tr>\n",
       "      <th>1</th>\n",
       "      <td>0</td>\n",
       "      <td>0</td>\n",
       "      <td>0</td>\n",
       "      <td>0</td>\n",
       "      <td>1</td>\n",
       "      <td>0</td>\n",
       "      <td>0</td>\n",
       "      <td>0</td>\n",
       "      <td>0</td>\n",
       "    </tr>\n",
       "    <tr>\n",
       "      <th>2</th>\n",
       "      <td>0</td>\n",
       "      <td>0</td>\n",
       "      <td>0</td>\n",
       "      <td>0</td>\n",
       "      <td>0</td>\n",
       "      <td>0</td>\n",
       "      <td>0</td>\n",
       "      <td>1</td>\n",
       "      <td>0</td>\n",
       "    </tr>\n",
       "    <tr>\n",
       "      <th>3</th>\n",
       "      <td>0</td>\n",
       "      <td>0</td>\n",
       "      <td>0</td>\n",
       "      <td>0</td>\n",
       "      <td>0</td>\n",
       "      <td>0</td>\n",
       "      <td>0</td>\n",
       "      <td>1</td>\n",
       "      <td>0</td>\n",
       "    </tr>\n",
       "    <tr>\n",
       "      <th>4</th>\n",
       "      <td>0</td>\n",
       "      <td>0</td>\n",
       "      <td>0</td>\n",
       "      <td>0</td>\n",
       "      <td>0</td>\n",
       "      <td>0</td>\n",
       "      <td>0</td>\n",
       "      <td>0</td>\n",
       "      <td>1</td>\n",
       "    </tr>\n",
       "  </tbody>\n",
       "</table>\n",
       "</div>"
      ],
      "text/plain": [
       "   Analytics  Finance  HR  Legal  Operations  Procurement  R&D  \\\n",
       "0          0        0   0      0           0            0    0   \n",
       "1          0        0   0      0           1            0    0   \n",
       "2          0        0   0      0           0            0    0   \n",
       "3          0        0   0      0           0            0    0   \n",
       "4          0        0   0      0           0            0    0   \n",
       "\n",
       "   Sales & Marketing  Technology  \n",
       "0                  1           0  \n",
       "1                  0           0  \n",
       "2                  1           0  \n",
       "3                  1           0  \n",
       "4                  0           1  "
      ]
     },
     "execution_count": 20,
     "metadata": {},
     "output_type": "execute_result"
    }
   ],
   "source": [
    "department_dummies = pd.get_dummies(data['department'])\n",
    "data = pd.concat((data, department_dummies), axis=1)\n",
    "data = data.drop(['department'], axis=1)\n",
    "department_dummies.head()"
   ]
  },
  {
   "cell_type": "code",
   "execution_count": 21,
   "id": "dbbd0b7c",
   "metadata": {},
   "outputs": [
    {
     "data": {
      "text/html": [
       "<div>\n",
       "<style scoped>\n",
       "    .dataframe tbody tr th:only-of-type {\n",
       "        vertical-align: middle;\n",
       "    }\n",
       "\n",
       "    .dataframe tbody tr th {\n",
       "        vertical-align: top;\n",
       "    }\n",
       "\n",
       "    .dataframe thead th {\n",
       "        text-align: right;\n",
       "    }\n",
       "</style>\n",
       "<table border=\"1\" class=\"dataframe\">\n",
       "  <thead>\n",
       "    <tr style=\"text-align: right;\">\n",
       "      <th></th>\n",
       "      <th>region_1</th>\n",
       "      <th>region_10</th>\n",
       "      <th>region_11</th>\n",
       "      <th>region_12</th>\n",
       "      <th>region_13</th>\n",
       "      <th>region_14</th>\n",
       "      <th>region_15</th>\n",
       "      <th>region_16</th>\n",
       "      <th>region_17</th>\n",
       "      <th>region_18</th>\n",
       "      <th>...</th>\n",
       "      <th>region_31</th>\n",
       "      <th>region_32</th>\n",
       "      <th>region_33</th>\n",
       "      <th>region_34</th>\n",
       "      <th>region_4</th>\n",
       "      <th>region_5</th>\n",
       "      <th>region_6</th>\n",
       "      <th>region_7</th>\n",
       "      <th>region_8</th>\n",
       "      <th>region_9</th>\n",
       "    </tr>\n",
       "  </thead>\n",
       "  <tbody>\n",
       "    <tr>\n",
       "      <th>0</th>\n",
       "      <td>0</td>\n",
       "      <td>0</td>\n",
       "      <td>0</td>\n",
       "      <td>0</td>\n",
       "      <td>0</td>\n",
       "      <td>0</td>\n",
       "      <td>0</td>\n",
       "      <td>0</td>\n",
       "      <td>0</td>\n",
       "      <td>0</td>\n",
       "      <td>...</td>\n",
       "      <td>0</td>\n",
       "      <td>0</td>\n",
       "      <td>0</td>\n",
       "      <td>0</td>\n",
       "      <td>0</td>\n",
       "      <td>0</td>\n",
       "      <td>0</td>\n",
       "      <td>1</td>\n",
       "      <td>0</td>\n",
       "      <td>0</td>\n",
       "    </tr>\n",
       "    <tr>\n",
       "      <th>1</th>\n",
       "      <td>0</td>\n",
       "      <td>0</td>\n",
       "      <td>0</td>\n",
       "      <td>0</td>\n",
       "      <td>0</td>\n",
       "      <td>0</td>\n",
       "      <td>0</td>\n",
       "      <td>0</td>\n",
       "      <td>0</td>\n",
       "      <td>0</td>\n",
       "      <td>...</td>\n",
       "      <td>0</td>\n",
       "      <td>0</td>\n",
       "      <td>0</td>\n",
       "      <td>0</td>\n",
       "      <td>0</td>\n",
       "      <td>0</td>\n",
       "      <td>0</td>\n",
       "      <td>0</td>\n",
       "      <td>0</td>\n",
       "      <td>0</td>\n",
       "    </tr>\n",
       "    <tr>\n",
       "      <th>2</th>\n",
       "      <td>0</td>\n",
       "      <td>0</td>\n",
       "      <td>0</td>\n",
       "      <td>0</td>\n",
       "      <td>0</td>\n",
       "      <td>0</td>\n",
       "      <td>0</td>\n",
       "      <td>0</td>\n",
       "      <td>0</td>\n",
       "      <td>0</td>\n",
       "      <td>...</td>\n",
       "      <td>0</td>\n",
       "      <td>0</td>\n",
       "      <td>0</td>\n",
       "      <td>0</td>\n",
       "      <td>0</td>\n",
       "      <td>0</td>\n",
       "      <td>0</td>\n",
       "      <td>0</td>\n",
       "      <td>0</td>\n",
       "      <td>0</td>\n",
       "    </tr>\n",
       "    <tr>\n",
       "      <th>3</th>\n",
       "      <td>0</td>\n",
       "      <td>0</td>\n",
       "      <td>0</td>\n",
       "      <td>0</td>\n",
       "      <td>0</td>\n",
       "      <td>0</td>\n",
       "      <td>0</td>\n",
       "      <td>0</td>\n",
       "      <td>0</td>\n",
       "      <td>0</td>\n",
       "      <td>...</td>\n",
       "      <td>0</td>\n",
       "      <td>0</td>\n",
       "      <td>0</td>\n",
       "      <td>0</td>\n",
       "      <td>0</td>\n",
       "      <td>0</td>\n",
       "      <td>0</td>\n",
       "      <td>0</td>\n",
       "      <td>0</td>\n",
       "      <td>0</td>\n",
       "    </tr>\n",
       "    <tr>\n",
       "      <th>4</th>\n",
       "      <td>0</td>\n",
       "      <td>0</td>\n",
       "      <td>0</td>\n",
       "      <td>0</td>\n",
       "      <td>0</td>\n",
       "      <td>0</td>\n",
       "      <td>0</td>\n",
       "      <td>0</td>\n",
       "      <td>0</td>\n",
       "      <td>0</td>\n",
       "      <td>...</td>\n",
       "      <td>0</td>\n",
       "      <td>0</td>\n",
       "      <td>0</td>\n",
       "      <td>0</td>\n",
       "      <td>0</td>\n",
       "      <td>0</td>\n",
       "      <td>0</td>\n",
       "      <td>0</td>\n",
       "      <td>0</td>\n",
       "      <td>0</td>\n",
       "    </tr>\n",
       "  </tbody>\n",
       "</table>\n",
       "<p>5 rows × 34 columns</p>\n",
       "</div>"
      ],
      "text/plain": [
       "   region_1  region_10  region_11  region_12  region_13  region_14  region_15  \\\n",
       "0         0          0          0          0          0          0          0   \n",
       "1         0          0          0          0          0          0          0   \n",
       "2         0          0          0          0          0          0          0   \n",
       "3         0          0          0          0          0          0          0   \n",
       "4         0          0          0          0          0          0          0   \n",
       "\n",
       "   region_16  region_17  region_18  ...  region_31  region_32  region_33  \\\n",
       "0          0          0          0  ...          0          0          0   \n",
       "1          0          0          0  ...          0          0          0   \n",
       "2          0          0          0  ...          0          0          0   \n",
       "3          0          0          0  ...          0          0          0   \n",
       "4          0          0          0  ...          0          0          0   \n",
       "\n",
       "   region_34  region_4  region_5  region_6  region_7  region_8  region_9  \n",
       "0          0         0         0         0         1         0         0  \n",
       "1          0         0         0         0         0         0         0  \n",
       "2          0         0         0         0         0         0         0  \n",
       "3          0         0         0         0         0         0         0  \n",
       "4          0         0         0         0         0         0         0  \n",
       "\n",
       "[5 rows x 34 columns]"
      ]
     },
     "execution_count": 21,
     "metadata": {},
     "output_type": "execute_result"
    }
   ],
   "source": [
    "region_dummies = pd.get_dummies(data['region'])\n",
    "data = pd.concat((data, region_dummies), axis=1)\n",
    "data = data.drop(['region'], axis=1)\n",
    "region_dummies.head()"
   ]
  },
  {
   "cell_type": "code",
   "execution_count": 22,
   "id": "7ee0c26f",
   "metadata": {},
   "outputs": [
    {
     "data": {
      "text/html": [
       "<div>\n",
       "<style scoped>\n",
       "    .dataframe tbody tr th:only-of-type {\n",
       "        vertical-align: middle;\n",
       "    }\n",
       "\n",
       "    .dataframe tbody tr th {\n",
       "        vertical-align: top;\n",
       "    }\n",
       "\n",
       "    .dataframe thead th {\n",
       "        text-align: right;\n",
       "    }\n",
       "</style>\n",
       "<table border=\"1\" class=\"dataframe\">\n",
       "  <thead>\n",
       "    <tr style=\"text-align: right;\">\n",
       "      <th></th>\n",
       "      <th>Bachelor's</th>\n",
       "      <th>Below Secondary</th>\n",
       "      <th>Master's &amp; above</th>\n",
       "    </tr>\n",
       "  </thead>\n",
       "  <tbody>\n",
       "    <tr>\n",
       "      <th>0</th>\n",
       "      <td>0</td>\n",
       "      <td>0</td>\n",
       "      <td>1</td>\n",
       "    </tr>\n",
       "    <tr>\n",
       "      <th>1</th>\n",
       "      <td>1</td>\n",
       "      <td>0</td>\n",
       "      <td>0</td>\n",
       "    </tr>\n",
       "    <tr>\n",
       "      <th>2</th>\n",
       "      <td>1</td>\n",
       "      <td>0</td>\n",
       "      <td>0</td>\n",
       "    </tr>\n",
       "    <tr>\n",
       "      <th>3</th>\n",
       "      <td>1</td>\n",
       "      <td>0</td>\n",
       "      <td>0</td>\n",
       "    </tr>\n",
       "    <tr>\n",
       "      <th>4</th>\n",
       "      <td>1</td>\n",
       "      <td>0</td>\n",
       "      <td>0</td>\n",
       "    </tr>\n",
       "  </tbody>\n",
       "</table>\n",
       "</div>"
      ],
      "text/plain": [
       "   Bachelor's  Below Secondary  Master's & above\n",
       "0           0                0                 1\n",
       "1           1                0                 0\n",
       "2           1                0                 0\n",
       "3           1                0                 0\n",
       "4           1                0                 0"
      ]
     },
     "execution_count": 22,
     "metadata": {},
     "output_type": "execute_result"
    }
   ],
   "source": [
    "education_dummies = pd.get_dummies(data['education'])\n",
    "data = pd.concat((data, education_dummies), axis=1)\n",
    "data = data.drop(['education'], axis=1)\n",
    "education_dummies.head()"
   ]
  },
  {
   "cell_type": "code",
   "execution_count": 23,
   "id": "cfa139c8",
   "metadata": {},
   "outputs": [
    {
     "data": {
      "text/html": [
       "<div>\n",
       "<style scoped>\n",
       "    .dataframe tbody tr th:only-of-type {\n",
       "        vertical-align: middle;\n",
       "    }\n",
       "\n",
       "    .dataframe tbody tr th {\n",
       "        vertical-align: top;\n",
       "    }\n",
       "\n",
       "    .dataframe thead th {\n",
       "        text-align: right;\n",
       "    }\n",
       "</style>\n",
       "<table border=\"1\" class=\"dataframe\">\n",
       "  <thead>\n",
       "    <tr style=\"text-align: right;\">\n",
       "      <th></th>\n",
       "      <th>other</th>\n",
       "      <th>referred</th>\n",
       "      <th>sourcing</th>\n",
       "    </tr>\n",
       "  </thead>\n",
       "  <tbody>\n",
       "    <tr>\n",
       "      <th>0</th>\n",
       "      <td>0</td>\n",
       "      <td>0</td>\n",
       "      <td>1</td>\n",
       "    </tr>\n",
       "    <tr>\n",
       "      <th>1</th>\n",
       "      <td>1</td>\n",
       "      <td>0</td>\n",
       "      <td>0</td>\n",
       "    </tr>\n",
       "    <tr>\n",
       "      <th>2</th>\n",
       "      <td>0</td>\n",
       "      <td>0</td>\n",
       "      <td>1</td>\n",
       "    </tr>\n",
       "    <tr>\n",
       "      <th>3</th>\n",
       "      <td>1</td>\n",
       "      <td>0</td>\n",
       "      <td>0</td>\n",
       "    </tr>\n",
       "    <tr>\n",
       "      <th>4</th>\n",
       "      <td>1</td>\n",
       "      <td>0</td>\n",
       "      <td>0</td>\n",
       "    </tr>\n",
       "  </tbody>\n",
       "</table>\n",
       "</div>"
      ],
      "text/plain": [
       "   other  referred  sourcing\n",
       "0      0         0         1\n",
       "1      1         0         0\n",
       "2      0         0         1\n",
       "3      1         0         0\n",
       "4      1         0         0"
      ]
     },
     "execution_count": 23,
     "metadata": {},
     "output_type": "execute_result"
    }
   ],
   "source": [
    "recruitment_channel_dummies = pd.get_dummies(data['recruitment_channel'])\n",
    "data = pd.concat((data, recruitment_channel_dummies), axis=1)\n",
    "data = data.drop(['recruitment_channel'], axis=1)\n",
    "recruitment_channel_dummies.head()"
   ]
  },
  {
   "cell_type": "markdown",
   "id": "7f3336de",
   "metadata": {},
   "source": [
    "### Нормализация колличественных признаков"
   ]
  },
  {
   "cell_type": "code",
   "execution_count": 24,
   "id": "693ec628",
   "metadata": {},
   "outputs": [
    {
     "data": {
      "text/html": [
       "<div>\n",
       "<style scoped>\n",
       "    .dataframe tbody tr th:only-of-type {\n",
       "        vertical-align: middle;\n",
       "    }\n",
       "\n",
       "    .dataframe tbody tr th {\n",
       "        vertical-align: top;\n",
       "    }\n",
       "\n",
       "    .dataframe thead th {\n",
       "        text-align: right;\n",
       "    }\n",
       "</style>\n",
       "<table border=\"1\" class=\"dataframe\">\n",
       "  <thead>\n",
       "    <tr style=\"text-align: right;\">\n",
       "      <th></th>\n",
       "      <th>employee_id</th>\n",
       "      <th>gender</th>\n",
       "      <th>no_of_trainings</th>\n",
       "      <th>age</th>\n",
       "      <th>previous_year_rating</th>\n",
       "      <th>length_of_service</th>\n",
       "      <th>KPIs_met &gt;80%</th>\n",
       "      <th>awards_won?</th>\n",
       "      <th>avg_training_score</th>\n",
       "      <th>is_promoted</th>\n",
       "      <th>...</th>\n",
       "      <th>region_6</th>\n",
       "      <th>region_7</th>\n",
       "      <th>region_8</th>\n",
       "      <th>region_9</th>\n",
       "      <th>Bachelor's</th>\n",
       "      <th>Below Secondary</th>\n",
       "      <th>Master's &amp; above</th>\n",
       "      <th>other</th>\n",
       "      <th>referred</th>\n",
       "      <th>sourcing</th>\n",
       "    </tr>\n",
       "  </thead>\n",
       "  <tbody>\n",
       "    <tr>\n",
       "      <th>count</th>\n",
       "      <td>5.369500e+04</td>\n",
       "      <td>5.369500e+04</td>\n",
       "      <td>5.369500e+04</td>\n",
       "      <td>5.369500e+04</td>\n",
       "      <td>5.369500e+04</td>\n",
       "      <td>5.369500e+04</td>\n",
       "      <td>5.369500e+04</td>\n",
       "      <td>5.369500e+04</td>\n",
       "      <td>5.369500e+04</td>\n",
       "      <td>5.369500e+04</td>\n",
       "      <td>...</td>\n",
       "      <td>5.369500e+04</td>\n",
       "      <td>5.369500e+04</td>\n",
       "      <td>5.369500e+04</td>\n",
       "      <td>5.369500e+04</td>\n",
       "      <td>5.369500e+04</td>\n",
       "      <td>5.369500e+04</td>\n",
       "      <td>5.369500e+04</td>\n",
       "      <td>5.369500e+04</td>\n",
       "      <td>5.369500e+04</td>\n",
       "      <td>5.369500e+04</td>\n",
       "    </tr>\n",
       "    <tr>\n",
       "      <th>mean</th>\n",
       "      <td>2.249600e-17</td>\n",
       "      <td>-1.249396e-16</td>\n",
       "      <td>2.230269e-15</td>\n",
       "      <td>-6.283786e-16</td>\n",
       "      <td>-1.929950e-15</td>\n",
       "      <td>1.326344e-16</td>\n",
       "      <td>2.375230e-16</td>\n",
       "      <td>1.001266e-15</td>\n",
       "      <td>3.361167e-17</td>\n",
       "      <td>-2.212128e-15</td>\n",
       "      <td>...</td>\n",
       "      <td>-4.279202e-16</td>\n",
       "      <td>1.626711e-15</td>\n",
       "      <td>4.197447e-16</td>\n",
       "      <td>-6.483782e-16</td>\n",
       "      <td>7.007958e-16</td>\n",
       "      <td>-3.564925e-15</td>\n",
       "      <td>1.258105e-15</td>\n",
       "      <td>7.660942e-16</td>\n",
       "      <td>2.630568e-15</td>\n",
       "      <td>2.052657e-16</td>\n",
       "    </tr>\n",
       "    <tr>\n",
       "      <th>std</th>\n",
       "      <td>1.000000e+00</td>\n",
       "      <td>1.000000e+00</td>\n",
       "      <td>1.000000e+00</td>\n",
       "      <td>1.000000e+00</td>\n",
       "      <td>1.000000e+00</td>\n",
       "      <td>1.000000e+00</td>\n",
       "      <td>1.000000e+00</td>\n",
       "      <td>1.000000e+00</td>\n",
       "      <td>1.000000e+00</td>\n",
       "      <td>1.000000e+00</td>\n",
       "      <td>...</td>\n",
       "      <td>1.000000e+00</td>\n",
       "      <td>1.000000e+00</td>\n",
       "      <td>1.000000e+00</td>\n",
       "      <td>1.000000e+00</td>\n",
       "      <td>1.000000e+00</td>\n",
       "      <td>1.000000e+00</td>\n",
       "      <td>1.000000e+00</td>\n",
       "      <td>1.000000e+00</td>\n",
       "      <td>1.000000e+00</td>\n",
       "      <td>1.000000e+00</td>\n",
       "    </tr>\n",
       "    <tr>\n",
       "      <th>min</th>\n",
       "      <td>-1.734183e+00</td>\n",
       "      <td>-1.536054e+00</td>\n",
       "      <td>-4.165230e-01</td>\n",
       "      <td>-1.720979e+00</td>\n",
       "      <td>-1.895500e+00</td>\n",
       "      <td>-1.193507e+00</td>\n",
       "      <td>-1.356270e+00</td>\n",
       "      <td>-1.509982e-01</td>\n",
       "      <td>-1.470198e+00</td>\n",
       "      <td>-2.993133e-01</td>\n",
       "      <td>...</td>\n",
       "      <td>-1.133377e-01</td>\n",
       "      <td>-3.123127e-01</td>\n",
       "      <td>-1.106094e-01</td>\n",
       "      <td>-8.868234e-02</td>\n",
       "      <td>-1.585857e+00</td>\n",
       "      <td>-1.161697e-01</td>\n",
       "      <td>-6.099784e-01</td>\n",
       "      <td>-1.116652e+00</td>\n",
       "      <td>-1.469489e-01</td>\n",
       "      <td>-8.578081e-01</td>\n",
       "    </tr>\n",
       "    <tr>\n",
       "      <th>25%</th>\n",
       "      <td>-8.642687e-01</td>\n",
       "      <td>-1.536054e+00</td>\n",
       "      <td>-4.165230e-01</td>\n",
       "      <td>-7.708036e-01</td>\n",
       "      <td>-2.495914e-01</td>\n",
       "      <td>-6.927853e-01</td>\n",
       "      <td>-1.356270e+00</td>\n",
       "      <td>-1.509982e-01</td>\n",
       "      <td>-9.394972e-01</td>\n",
       "      <td>-2.993133e-01</td>\n",
       "      <td>...</td>\n",
       "      <td>-1.133377e-01</td>\n",
       "      <td>-3.123127e-01</td>\n",
       "      <td>-1.106094e-01</td>\n",
       "      <td>-8.868234e-02</td>\n",
       "      <td>-1.585857e+00</td>\n",
       "      <td>-1.161697e-01</td>\n",
       "      <td>-6.099784e-01</td>\n",
       "      <td>-1.116652e+00</td>\n",
       "      <td>-1.469489e-01</td>\n",
       "      <td>-8.578081e-01</td>\n",
       "    </tr>\n",
       "    <tr>\n",
       "      <th>50%</th>\n",
       "      <td>6.923930e-05</td>\n",
       "      <td>6.510065e-01</td>\n",
       "      <td>-4.165230e-01</td>\n",
       "      <td>-2.278460e-01</td>\n",
       "      <td>-2.495914e-01</td>\n",
       "      <td>-1.920637e-01</td>\n",
       "      <td>7.373025e-01</td>\n",
       "      <td>-1.509982e-01</td>\n",
       "      <td>-2.571675e-01</td>\n",
       "      <td>-2.993133e-01</td>\n",
       "      <td>...</td>\n",
       "      <td>-1.133377e-01</td>\n",
       "      <td>-3.123127e-01</td>\n",
       "      <td>-1.106094e-01</td>\n",
       "      <td>-8.868234e-02</td>\n",
       "      <td>6.305619e-01</td>\n",
       "      <td>-1.161697e-01</td>\n",
       "      <td>-6.099784e-01</td>\n",
       "      <td>8.955175e-01</td>\n",
       "      <td>-1.469489e-01</td>\n",
       "      <td>-8.578081e-01</td>\n",
       "    </tr>\n",
       "    <tr>\n",
       "      <th>75%</th>\n",
       "      <td>8.654251e-01</td>\n",
       "      <td>6.510065e-01</td>\n",
       "      <td>-4.165230e-01</td>\n",
       "      <td>5.865903e-01</td>\n",
       "      <td>5.733628e-01</td>\n",
       "      <td>3.086579e-01</td>\n",
       "      <td>7.373025e-01</td>\n",
       "      <td>-1.509982e-01</td>\n",
       "      <td>9.558631e-01</td>\n",
       "      <td>-2.993133e-01</td>\n",
       "      <td>...</td>\n",
       "      <td>-1.133377e-01</td>\n",
       "      <td>-3.123127e-01</td>\n",
       "      <td>-1.106094e-01</td>\n",
       "      <td>-8.868234e-02</td>\n",
       "      <td>6.305619e-01</td>\n",
       "      <td>-1.161697e-01</td>\n",
       "      <td>1.639372e+00</td>\n",
       "      <td>8.955175e-01</td>\n",
       "      <td>-1.469489e-01</td>\n",
       "      <td>1.165740e+00</td>\n",
       "    </tr>\n",
       "    <tr>\n",
       "      <th>max</th>\n",
       "      <td>1.731002e+00</td>\n",
       "      <td>6.510065e-01</td>\n",
       "      <td>1.435140e+01</td>\n",
       "      <td>3.301378e+00</td>\n",
       "      <td>1.396317e+00</td>\n",
       "      <td>4.564791e+00</td>\n",
       "      <td>7.373025e-01</td>\n",
       "      <td>6.622474e+00</td>\n",
       "      <td>2.320523e+00</td>\n",
       "      <td>3.340919e+00</td>\n",
       "      <td>...</td>\n",
       "      <td>8.823029e+00</td>\n",
       "      <td>3.201860e+00</td>\n",
       "      <td>9.040656e+00</td>\n",
       "      <td>1.127599e+01</td>\n",
       "      <td>6.305619e-01</td>\n",
       "      <td>8.607934e+00</td>\n",
       "      <td>1.639372e+00</td>\n",
       "      <td>8.955175e-01</td>\n",
       "      <td>6.804962e+00</td>\n",
       "      <td>1.165740e+00</td>\n",
       "    </tr>\n",
       "  </tbody>\n",
       "</table>\n",
       "<p>8 rows × 59 columns</p>\n",
       "</div>"
      ],
      "text/plain": [
       "        employee_id        gender  no_of_trainings           age  \\\n",
       "count  5.369500e+04  5.369500e+04     5.369500e+04  5.369500e+04   \n",
       "mean   2.249600e-17 -1.249396e-16     2.230269e-15 -6.283786e-16   \n",
       "std    1.000000e+00  1.000000e+00     1.000000e+00  1.000000e+00   \n",
       "min   -1.734183e+00 -1.536054e+00    -4.165230e-01 -1.720979e+00   \n",
       "25%   -8.642687e-01 -1.536054e+00    -4.165230e-01 -7.708036e-01   \n",
       "50%    6.923930e-05  6.510065e-01    -4.165230e-01 -2.278460e-01   \n",
       "75%    8.654251e-01  6.510065e-01    -4.165230e-01  5.865903e-01   \n",
       "max    1.731002e+00  6.510065e-01     1.435140e+01  3.301378e+00   \n",
       "\n",
       "       previous_year_rating  length_of_service  KPIs_met >80%   awards_won?  \\\n",
       "count          5.369500e+04       5.369500e+04   5.369500e+04  5.369500e+04   \n",
       "mean          -1.929950e-15       1.326344e-16   2.375230e-16  1.001266e-15   \n",
       "std            1.000000e+00       1.000000e+00   1.000000e+00  1.000000e+00   \n",
       "min           -1.895500e+00      -1.193507e+00  -1.356270e+00 -1.509982e-01   \n",
       "25%           -2.495914e-01      -6.927853e-01  -1.356270e+00 -1.509982e-01   \n",
       "50%           -2.495914e-01      -1.920637e-01   7.373025e-01 -1.509982e-01   \n",
       "75%            5.733628e-01       3.086579e-01   7.373025e-01 -1.509982e-01   \n",
       "max            1.396317e+00       4.564791e+00   7.373025e-01  6.622474e+00   \n",
       "\n",
       "       avg_training_score   is_promoted  ...      region_6      region_7  \\\n",
       "count        5.369500e+04  5.369500e+04  ...  5.369500e+04  5.369500e+04   \n",
       "mean         3.361167e-17 -2.212128e-15  ... -4.279202e-16  1.626711e-15   \n",
       "std          1.000000e+00  1.000000e+00  ...  1.000000e+00  1.000000e+00   \n",
       "min         -1.470198e+00 -2.993133e-01  ... -1.133377e-01 -3.123127e-01   \n",
       "25%         -9.394972e-01 -2.993133e-01  ... -1.133377e-01 -3.123127e-01   \n",
       "50%         -2.571675e-01 -2.993133e-01  ... -1.133377e-01 -3.123127e-01   \n",
       "75%          9.558631e-01 -2.993133e-01  ... -1.133377e-01 -3.123127e-01   \n",
       "max          2.320523e+00  3.340919e+00  ...  8.823029e+00  3.201860e+00   \n",
       "\n",
       "           region_8      region_9    Bachelor's  Below Secondary  \\\n",
       "count  5.369500e+04  5.369500e+04  5.369500e+04     5.369500e+04   \n",
       "mean   4.197447e-16 -6.483782e-16  7.007958e-16    -3.564925e-15   \n",
       "std    1.000000e+00  1.000000e+00  1.000000e+00     1.000000e+00   \n",
       "min   -1.106094e-01 -8.868234e-02 -1.585857e+00    -1.161697e-01   \n",
       "25%   -1.106094e-01 -8.868234e-02 -1.585857e+00    -1.161697e-01   \n",
       "50%   -1.106094e-01 -8.868234e-02  6.305619e-01    -1.161697e-01   \n",
       "75%   -1.106094e-01 -8.868234e-02  6.305619e-01    -1.161697e-01   \n",
       "max    9.040656e+00  1.127599e+01  6.305619e-01     8.607934e+00   \n",
       "\n",
       "       Master's & above         other      referred      sourcing  \n",
       "count      5.369500e+04  5.369500e+04  5.369500e+04  5.369500e+04  \n",
       "mean       1.258105e-15  7.660942e-16  2.630568e-15  2.052657e-16  \n",
       "std        1.000000e+00  1.000000e+00  1.000000e+00  1.000000e+00  \n",
       "min       -6.099784e-01 -1.116652e+00 -1.469489e-01 -8.578081e-01  \n",
       "25%       -6.099784e-01 -1.116652e+00 -1.469489e-01 -8.578081e-01  \n",
       "50%       -6.099784e-01  8.955175e-01 -1.469489e-01 -8.578081e-01  \n",
       "75%        1.639372e+00  8.955175e-01 -1.469489e-01  1.165740e+00  \n",
       "max        1.639372e+00  8.955175e-01  6.804962e+00  1.165740e+00  \n",
       "\n",
       "[8 rows x 59 columns]"
      ]
     },
     "execution_count": 24,
     "metadata": {},
     "output_type": "execute_result"
    }
   ],
   "source": [
    "data_stand = (data - data.mean(axis = 0))/data.std(axis = 0)\n",
    "data_stand.describe()"
   ]
  },
  {
   "cell_type": "markdown",
   "id": "f4986b28",
   "metadata": {},
   "source": [
    "## Отбор признаков"
   ]
  },
  {
   "cell_type": "code",
   "execution_count": 25,
   "id": "ed83b84f",
   "metadata": {},
   "outputs": [
    {
     "data": {
      "text/plain": [
       "Index(['employee_id', 'gender', 'no_of_trainings', 'age',\n",
       "       'previous_year_rating', 'length_of_service', 'KPIs_met >80%',\n",
       "       'awards_won?', 'avg_training_score', 'is_promoted', 'Analytics',\n",
       "       'Finance', 'HR', 'Legal', 'Operations', 'Procurement', 'R&D',\n",
       "       'Sales & Marketing', 'Technology', 'region_1', 'region_10', 'region_11',\n",
       "       'region_12', 'region_13', 'region_14', 'region_15', 'region_16',\n",
       "       'region_17', 'region_18', 'region_19', 'region_2', 'region_20',\n",
       "       'region_21', 'region_22', 'region_23', 'region_24', 'region_25',\n",
       "       'region_26', 'region_27', 'region_28', 'region_29', 'region_3',\n",
       "       'region_30', 'region_31', 'region_32', 'region_33', 'region_34',\n",
       "       'region_4', 'region_5', 'region_6', 'region_7', 'region_8', 'region_9',\n",
       "       'Bachelor's', 'Below Secondary', 'Master's & above', 'other',\n",
       "       'referred', 'sourcing'],\n",
       "      dtype='object')"
      ]
     },
     "execution_count": 25,
     "metadata": {},
     "output_type": "execute_result"
    }
   ],
   "source": [
    "data_stand.columns"
   ]
  },
  {
   "cell_type": "code",
   "execution_count": 177,
   "id": "02e6e3ee",
   "metadata": {},
   "outputs": [],
   "source": [
    "X = data_stand.drop(['employee_id', 'is_promoted'], axis=1).iloc[0:5000,]\n",
    "y = data['is_promoted'].iloc[0:5000,]"
   ]
  },
  {
   "cell_type": "markdown",
   "id": "dd438ce0",
   "metadata": {},
   "source": [
    "## Разобъем данные на обучаемую и тестовую выборку:"
   ]
  },
  {
   "cell_type": "code",
   "execution_count": 178,
   "id": "7b10a9b6",
   "metadata": {},
   "outputs": [
    {
     "data": {
      "text/plain": [
       "(3750, 1250)"
      ]
     },
     "execution_count": 178,
     "metadata": {},
     "output_type": "execute_result"
    }
   ],
   "source": [
    "from sklearn.model_selection import train_test_split\n",
    "X_train, X_test, y_train, y_test = train_test_split(X, y, test_size = 0.25, random_state = 42)\n",
    "\n",
    "N_train, _ = X_train.shape \n",
    "N_test,  _ = X_test.shape \n",
    "\n",
    "N_train, N_test"
   ]
  },
  {
   "cell_type": "markdown",
   "id": "98939474",
   "metadata": {},
   "source": [
    "## Обучаем классификатор "
   ]
  },
  {
   "cell_type": "code",
   "execution_count": 179,
   "id": "1fd071af",
   "metadata": {},
   "outputs": [],
   "source": [
    "from sklearn.neural_network import MLPClassifier"
   ]
  },
  {
   "cell_type": "code",
   "execution_count": 180,
   "id": "3dccc5db",
   "metadata": {},
   "outputs": [],
   "source": [
    "mlp_model = MLPClassifier(hidden_layer_sizes = (200,),\n",
    "                          solver = 'lbfgs', \n",
    "                          activation = 'logistic',\n",
    "                          random_state = 42)"
   ]
  },
  {
   "cell_type": "code",
   "execution_count": 181,
   "id": "87266f1e",
   "metadata": {},
   "outputs": [
    {
     "name": "stdout",
     "output_type": "stream",
     "text": [
      "Wall time: 2.65 s\n"
     ]
    },
    {
     "data": {
      "text/plain": [
       "MLPClassifier(activation='logistic', hidden_layer_sizes=(200,), random_state=42,\n",
       "              solver='lbfgs')"
      ]
     },
     "execution_count": 181,
     "metadata": {},
     "output_type": "execute_result"
    }
   ],
   "source": [
    "%%time\n",
    "mlp_model.fit(X_train, y_train)"
   ]
  },
  {
   "cell_type": "markdown",
   "id": "bdb597b2",
   "metadata": {},
   "source": [
    "## Попробуем классифицировать"
   ]
  },
  {
   "cell_type": "markdown",
   "id": "173050a4",
   "metadata": {},
   "source": [
    "### Пример из тестовой выборки"
   ]
  },
  {
   "cell_type": "code",
   "execution_count": 182,
   "id": "526e09a6",
   "metadata": {},
   "outputs": [
    {
     "name": "stdout",
     "output_type": "stream",
     "text": [
      "0\n"
     ]
    },
    {
     "data": {
      "text/plain": [
       "array([0], dtype=int64)"
      ]
     },
     "execution_count": 182,
     "metadata": {},
     "output_type": "execute_result"
    }
   ],
   "source": [
    "test_data = X_test.iloc[13,]\n",
    "print(y_test.iloc[13,])\n",
    "mlp_model.predict([test_data])"
   ]
  },
  {
   "cell_type": "code",
   "execution_count": 183,
   "id": "28dd6d1d",
   "metadata": {},
   "outputs": [
    {
     "name": "stdout",
     "output_type": "stream",
     "text": [
      "0\n"
     ]
    },
    {
     "data": {
      "text/plain": [
       "array([0], dtype=int64)"
      ]
     },
     "execution_count": 183,
     "metadata": {},
     "output_type": "execute_result"
    }
   ],
   "source": [
    "test_data = X_test.iloc[12,]\n",
    "print(y_test.iloc[12,])\n",
    "mlp_model.predict([test_data])"
   ]
  },
  {
   "cell_type": "markdown",
   "id": "2d445854",
   "metadata": {},
   "source": [
    "## Проверяем качество классификатора"
   ]
  },
  {
   "cell_type": "code",
   "execution_count": 184,
   "id": "4fa9b082",
   "metadata": {},
   "outputs": [],
   "source": [
    "y_train_pred = mlp_model.predict(X_train)\n",
    "y_test_pred = mlp_model.predict(X_test)"
   ]
  },
  {
   "cell_type": "markdown",
   "id": "45fc57ec",
   "metadata": {},
   "source": [
    "### Ошибка на обучающих и тестовых выборках. Метод 1"
   ]
  },
  {
   "cell_type": "code",
   "execution_count": 185,
   "id": "1ca7dda6",
   "metadata": {
    "scrolled": true
   },
   "outputs": [
    {
     "name": "stdout",
     "output_type": "stream",
     "text": [
      "Ошибка:  0.0 0.124\n"
     ]
    }
   ],
   "source": [
    "print(\"Ошибка: \", np.mean(y_train != y_train_pred), np.mean(y_test != y_test_pred))"
   ]
  },
  {
   "cell_type": "markdown",
   "id": "d04e12ce",
   "metadata": {},
   "source": [
    "### Ошибка на обучающих и тестовых выборках. Метод 2"
   ]
  },
  {
   "cell_type": "code",
   "execution_count": 186,
   "id": "53bfe60d",
   "metadata": {
    "scrolled": true
   },
   "outputs": [
    {
     "name": "stdout",
     "output_type": "stream",
     "text": [
      "1.0 0.876\n",
      "Ошибка:  0.124\n"
     ]
    }
   ],
   "source": [
    "print(mlp_model.score(X_train, y_train), mlp_model.score(X_test, y_test))\n",
    "print(\"Ошибка: \", 1 - mlp_model.score(X_test, y_test))"
   ]
  },
  {
   "cell_type": "markdown",
   "id": "cda3825e",
   "metadata": {},
   "source": [
    "### Ошибка на обучающих и тестовых выборках. Метод 3"
   ]
  },
  {
   "cell_type": "code",
   "execution_count": 187,
   "id": "5545cbb1",
   "metadata": {},
   "outputs": [
    {
     "name": "stdout",
     "output_type": "stream",
     "text": [
      "1.0\n",
      "0.876\n"
     ]
    }
   ],
   "source": [
    "from sklearn.metrics import accuracy_score\n",
    "print(accuracy_score(y_train, y_train_pred))\n",
    "print(accuracy_score(y_test, y_test_pred))"
   ]
  },
  {
   "cell_type": "markdown",
   "id": "6b431e0e",
   "metadata": {},
   "source": [
    "## Подбор гипер-параметров"
   ]
  },
  {
   "cell_type": "code",
   "execution_count": 188,
   "id": "b602bd28",
   "metadata": {},
   "outputs": [],
   "source": [
    "alpha_arr = np.logspace(-3, 2, 21)\n",
    "test_err = []\n",
    "train_err = []\n",
    "train_acc = []\n",
    "test_acc = []\n",
    "\n",
    "for alpha in alpha_arr:\n",
    "    mlp_model = MLPClassifier(alpha = alpha, hidden_layer_sizes = (200,), \n",
    "                              solver = 'lbfgs', activation = 'logistic', max_iter=1000, random_state = 42)\n",
    "    mlp_model.fit(X_train, y_train)\n",
    "\n",
    "    y_train_pred = mlp_model.predict(X_train)\n",
    "    y_test_pred = mlp_model.predict(X_test)\n",
    "    \n",
    "    train_err.append(np.mean(y_train != y_train_pred))\n",
    "    test_err.append(np.mean(y_test != y_test_pred))\n",
    "    train_acc.append(accuracy_score(y_train, y_train_pred))\n",
    "    test_acc.append(accuracy_score(y_test, y_test_pred))"
   ]
  },
  {
   "cell_type": "code",
   "execution_count": 189,
   "id": "bbd15307",
   "metadata": {},
   "outputs": [
    {
     "data": {
      "text/plain": [
       "<matplotlib.legend.Legend at 0x20e08e27be0>"
      ]
     },
     "execution_count": 189,
     "metadata": {},
     "output_type": "execute_result"
    },
    {
     "data": {
      "image/png": "[encoded data removed]",
      "text/plain": [
       "<Figure size 432x288 with 1 Axes>"
      ]
     },
     "metadata": {
      "needs_background": "light"
     },
     "output_type": "display_data"
    }
   ],
   "source": [
    "plt.semilogx(alpha_arr, train_err, 'b-o', label = 'train')\n",
    "plt.semilogx(alpha_arr, test_err, 'r-o', label = 'test')\n",
    "plt.xlim([np.min(alpha_arr), np.max(alpha_arr)])\n",
    "plt.title('Error vs. alpha')\n",
    "plt.xlabel('alpha')\n",
    "plt.ylabel('error')\n",
    "plt.legend()"
   ]
  },
  {
   "cell_type": "markdown",
   "id": "da335787",
   "metadata": {},
   "source": [
    "### Рассмотрим как у нас менялась метрика в зависимости от гиперпараметра:"
   ]
  },
  {
   "cell_type": "code",
   "execution_count": 190,
   "id": "8be3fbde",
   "metadata": {},
   "outputs": [
    {
     "data": {
      "text/plain": [
       "<matplotlib.legend.Legend at 0x20e08f3ac40>"
      ]
     },
     "execution_count": 190,
     "metadata": {},
     "output_type": "execute_result"
    },
    {
     "data": {
      "image/png": "[encoded data removed]",
      "text/plain": [
       "<Figure size 432x288 with 1 Axes>"
      ]
     },
     "metadata": {
      "needs_background": "light"
     },
     "output_type": "display_data"
    }
   ],
   "source": [
    "plt.semilogx(alpha_arr, train_acc, 'r-o', label = 'train')\n",
    "plt.semilogx(alpha_arr, test_acc, 'b-o', label = 'test')\n",
    "plt.xlim([np.min(alpha_arr), np.max(alpha_arr)])\n",
    "plt.title('Accuracy vs. alpha')\n",
    "plt.xlabel('alpha')\n",
    "plt.ylabel('Accuracy')\n",
    "plt.legend()"
   ]
  },
  {
   "cell_type": "markdown",
   "id": "69a3882e",
   "metadata": {},
   "source": [
    "Минимальное значение ошибки"
   ]
  },
  {
   "cell_type": "code",
   "execution_count": 191,
   "id": "02a63b21",
   "metadata": {
    "scrolled": true
   },
   "outputs": [
    {
     "name": "stdout",
     "output_type": "stream",
     "text": [
      "0.0 0.0792\n"
     ]
    }
   ],
   "source": [
    "min_train_err = np.min(train_err)\n",
    "min_test_err = np.min(test_err)\n",
    "print(min_train_err, min_test_err)"
   ]
  },
  {
   "cell_type": "markdown",
   "id": "b276fa1c",
   "metadata": {},
   "source": [
    "Оптимальное значение Альфа:"
   ]
  },
  {
   "cell_type": "code",
   "execution_count": 192,
   "id": "ae9da58c",
   "metadata": {},
   "outputs": [
    {
     "name": "stdout",
     "output_type": "stream",
     "text": [
      "[5.62341325]\n"
     ]
    }
   ],
   "source": [
    "alpha_opt = alpha_arr[test_err == min_test_err]\n",
    "print(alpha_opt)"
   ]
  },
  {
   "cell_type": "markdown",
   "id": "a2ddf950",
   "metadata": {},
   "source": [
    "## Классификатор при найденном оптимальном значении Альфа"
   ]
  },
  {
   "cell_type": "code",
   "execution_count": 193,
   "id": "b45474b7",
   "metadata": {},
   "outputs": [
    {
     "name": "stdout",
     "output_type": "stream",
     "text": [
      "0.07173333333333333\n",
      "0.0792\n"
     ]
    }
   ],
   "source": [
    "### Повторим обучение\n",
    "\n",
    "mlp_model = MLPClassifier(alpha = alpha_opt, hidden_layer_sizes = (200,),\n",
    "                          solver = 'lbfgs', activation = 'logistic', random_state = 42)\n",
    "mlp_model.fit(X_train, y_train)\n",
    "\n",
    "y_train_pred = mlp_model.predict(X_train)\n",
    "y_test_pred = mlp_model.predict(X_test)\n",
    "print(np.mean(y_train != y_train_pred))\n",
    "print(np.mean(y_test != y_test_pred))"
   ]
  },
  {
   "cell_type": "markdown",
   "id": "aa3fc698",
   "metadata": {},
   "source": [
    "## Матрица рассогласования и другие метрики качества"
   ]
  },
  {
   "cell_type": "code",
   "execution_count": 194,
   "id": "4d5b42b3",
   "metadata": {},
   "outputs": [
    {
     "name": "stdout",
     "output_type": "stream",
     "text": [
      "[[1132   93]\n",
      " [   6   19]]\n"
     ]
    }
   ],
   "source": [
    "from sklearn.metrics import confusion_matrix\n",
    "print(confusion_matrix(y_test_pred, y_test))"
   ]
  },
  {
   "cell_type": "code",
   "execution_count": 195,
   "id": "c00adc99",
   "metadata": {},
   "outputs": [
    {
     "data": {
      "image/png": "[encoded data removed]",
      "text/plain": [
       "<Figure size 432x288 with 2 Axes>"
      ]
     },
     "metadata": {
      "needs_background": "light"
     },
     "output_type": "display_data"
    }
   ],
   "source": [
    "M = confusion_matrix(y_test_pred, y_test)\n",
    "M = np.sqrt(M)\n",
    "plt.imshow(M, interpolation = 'nearest')\n",
    "plt.set_cmap('binary')\n",
    "plt.xticks(range(10))\n",
    "plt.yticks(range(10))\n",
    "plt.xlabel(\"true label\")\n",
    "plt.ylabel(\"predicted label\")\n",
    "plt.colorbar()\n",
    "pass"
   ]
  },
  {
   "cell_type": "code",
   "execution_count": 196,
   "id": "29882393",
   "metadata": {},
   "outputs": [
    {
     "data": {
      "text/plain": [
       "<sklearn.metrics._plot.confusion_matrix.ConfusionMatrixDisplay at 0x20e09697eb0>"
      ]
     },
     "execution_count": 196,
     "metadata": {},
     "output_type": "execute_result"
    },
    {
     "data": {
      "image/png": "[encoded data removed]",
      "text/plain": [
       "<Figure size 432x288 with 2 Axes>"
      ]
     },
     "metadata": {
      "needs_background": "light"
     },
     "output_type": "display_data"
    }
   ],
   "source": [
    "from sklearn.metrics import plot_confusion_matrix\n",
    "plot_confusion_matrix(mlp_model, X_test, y_test) "
   ]
  },
  {
   "cell_type": "code",
   "execution_count": 197,
   "id": "b3cd1bf9",
   "metadata": {},
   "outputs": [
    {
     "name": "stdout",
     "output_type": "stream",
     "text": [
      "              precision    recall  f1-score   support\n",
      "\n",
      "           0       0.92      0.99      0.96      1138\n",
      "           1       0.76      0.17      0.28       112\n",
      "\n",
      "    accuracy                           0.92      1250\n",
      "   macro avg       0.84      0.58      0.62      1250\n",
      "weighted avg       0.91      0.92      0.90      1250\n",
      "\n"
     ]
    }
   ],
   "source": [
    "from sklearn.metrics import classification_report\n",
    "print(classification_report(y_test, y_test_pred))"
   ]
  }
 ],
 "metadata": {
  "kernelspec": {
   "display_name": "Python 3",
   "language": "python",
   "name": "python3"
  },
  "language_info": {
   "codemirror_mode": {
    "name": "ipython",
    "version": 3
   },
   "file_extension": ".py",
   "mimetype": "text/x-python",
   "name": "python",
   "nbconvert_exporter": "python",
   "pygments_lexer": "ipython3",
   "version": "3.8.8"
  }
 },
 "nbformat": 4,
 "nbformat_minor": 5
}
